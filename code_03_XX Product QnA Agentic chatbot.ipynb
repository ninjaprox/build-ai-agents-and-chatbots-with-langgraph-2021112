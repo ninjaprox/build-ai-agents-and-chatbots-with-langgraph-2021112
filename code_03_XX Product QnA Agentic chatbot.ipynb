{
 "cells": [
  {
   "cell_type": "markdown",
   "id": "ddf0b696-aa72-4094-81b1-9d9ca40547da",
   "metadata": {},
   "source": [
    "## Setup Models"
   ]
  },
  {
   "cell_type": "code",
   "execution_count": 1,
   "id": "03f0f096-1d52-4d40-bcd2-6415a98adf99",
   "metadata": {},
   "outputs": [],
   "source": [
    "from langchain_openai import ChatOpenAI\n",
    "from langchain_openai import OpenAIEmbeddings\n",
    "\n",
    "\n",
    "#Setup the LLM\n",
    "model = ChatOpenAI(model=\"gpt-5\")\n",
    "\n",
    "#Setup the Embedding\n",
    "embedding = OpenAIEmbeddings(model=\"text-embedding-3-small\")\n"
   ]
  },
  {
   "cell_type": "markdown",
   "id": "af6e2f00-872c-4f6a-bdb2-8da1f1d319bc",
   "metadata": {},
   "source": [
    "## 03.02. Add  Product Pricing function tool"
   ]
  },
  {
   "cell_type": "code",
   "execution_count": 2,
   "id": "cc54279d-156f-4c83-89fe-e571f8661eee",
   "metadata": {},
   "outputs": [
    {
     "name": "stdout",
     "output_type": "stream",
     "text": [
      "            Name  Price  ShippingDays\n",
      "0  AlphaBook Pro   1499             2\n",
      "1     GammaAir X   1399             7\n",
      "2  SpectraBook S   2499             7\n",
      "3   OmegaPro G17   2199            14\n",
      "4  NanoEdge Flex   1699             2\n"
     ]
    }
   ],
   "source": [
    "import pandas as pd\n",
    "from langchain_core.tools import tool\n",
    "\n",
    "#Load the laptop product pricing CSV into a Pandas dataframe.\n",
    "product_pricing_df = pd.read_csv(\"data/Laptop pricing.csv\")\n",
    "print(product_pricing_df)\n",
    "\n",
    "@tool\n",
    "def get_laptop_price(laptop_name:str) -> int :\n",
    "    \"\"\"\n",
    "    This function returns the price of a laptop, given its name as input.\n",
    "    It performs a substring match between the input name and the laptop name.\n",
    "    If a match is found, it returns the price of the laptop.\n",
    "    If there is NO match found, it returns -1\n",
    "    \"\"\"\n",
    "\n",
    "    #Filter Dataframe for matching names\n",
    "    match_records_df = product_pricing_df[\n",
    "                        product_pricing_df[\"Name\"].str.contains(\n",
    "                                                \"^\" + laptop_name, case=False)\n",
    "                        ]\n",
    "    #Check if a record was found, if not return -1\n",
    "    if len(match_records_df) == 0 :\n",
    "        return -1\n",
    "    else:\n",
    "        return match_records_df[\"Price\"].iloc[0]\n",
    "\n",
    "#Test the tool. Before running the test, comment the @tool annotation\n",
    "# print(get_laptop_price(\"alpha\"))\n",
    "# print(get_laptop_price(\"testing\"))\n"
   ]
  },
  {
   "cell_type": "markdown",
   "id": "36d17eac",
   "metadata": {},
   "source": []
  },
  {
   "cell_type": "markdown",
   "id": "05d7d678-75e9-4897-83fa-b2ec108f96ed",
   "metadata": {},
   "source": [
    "## 03.03. Add Product Features Retrieval Tool"
   ]
  },
  {
   "cell_type": "code",
   "execution_count": 3,
   "id": "b17cd9a7-1af7-4b89-8719-03af6c6b8d49",
   "metadata": {},
   "outputs": [
    {
     "name": "stdout",
     "output_type": "stream",
     "text": [
      "[Document(id='6cb58d59-bf0c-4242-b397-afd89a131e02', metadata={'page': 0, 'source': './data/Laptop product descriptions.pdf', 'creationdate': 'D:20241011143914', 'total_pages': 1, 'page_label': '1', 'creator': 'PyPDF', 'producer': 'PyFPDF 1.7.2 http://pyfpdf.googlecode.com/'}, page_content='Fictional Laptop Descriptions\\nAlphaBook Pro\\nThe AlphaBook Pro is a sleek ultrabook with a 12th Gen Intel i7 processor, 16GB of DDR4 RAM,\\nand a fast 1TB SSD. Ideal for professionals on the go, this laptop offers an impressive blend of\\npower and portability.\\nGammaAir X\\nGammaAir X combines an AMD Ryzen 7 processor with 32GB of DDR4 memory and a 512GB\\nNVMe SSD. Its thin and light form factor makes it perfect for users who need high performance in a\\nportable design.\\nSpectraBook S\\nDesigned for power users, SpectraBook S features an Intel Core i9 processor, 64GB RAM, and a\\nmassive 2TB SSD. This workstation-class laptop is perfect for intensive tasks like video editing and\\n3D rendering.\\nOmegaPro G17\\nOmegaPro G17 is a gaming powerhouse with a Ryzen 9 5900HX CPU, 32GB RAM, and a 1TB\\nSSD. Designed for gamers, it features a 17-inch display with a high refresh rate and powerful\\ngraphics card for the best gaming experience.\\nNanoEdge Flex'), Document(id='05a0ae0c-e9b5-4b49-ab02-af82b21293db', metadata={'source': './data/Laptop product descriptions.pdf', 'page_label': '1', 'creator': 'PyPDF', 'creationdate': 'D:20241011143914', 'page': 0, 'total_pages': 1, 'producer': 'PyFPDF 1.7.2 http://pyfpdf.googlecode.com/'}, page_content=\"OmegaPro G17\\nOmegaPro G17 is a gaming powerhouse with a Ryzen 9 5900HX CPU, 32GB RAM, and a 1TB\\nSSD. Designed for gamers, it features a 17-inch display with a high refresh rate and powerful\\ngraphics card for the best gaming experience.\\nNanoEdge Flex\\nNanoEdge Flex is a versatile 2-in-1 laptop with Apple's M1 Pro chip, 16GB of unified memory, and a\\n512GB SSD. It's perfect for creative professionals who need a device that can transform between a\\nlaptop and a tablet.\")]\n"
     ]
    }
   ],
   "source": [
    "# __import__('pysqlite3')\n",
    "# import sys\n",
    "# sys.modules['sqlite3'] = sys.modules.pop('pysqlite3')\n",
    "\n",
    "from langchain.tools.retriever import create_retriever_tool\n",
    "from langchain_chroma import Chroma\n",
    "from langchain_community.document_loaders import PyPDFLoader\n",
    "from langchain_openai import OpenAIEmbeddings\n",
    "from langchain_text_splitters import RecursiveCharacterTextSplitter\n",
    "\n",
    "# Load, chunk and index the contents of the product featuers document.\n",
    "loader=PyPDFLoader(\"./data/Laptop product descriptions.pdf\")\n",
    "docs = loader.load()\n",
    "\n",
    "text_splitter = RecursiveCharacterTextSplitter(chunk_size=1024, chunk_overlap=256)\n",
    "splits = text_splitter.split_documents(docs)\n",
    "\n",
    "#Create a vector store with Chroma\n",
    "prod_feature_store = Chroma.from_documents(\n",
    "    documents=splits,\n",
    "    embedding=embedding\n",
    ")\n",
    "\n",
    "get_product_features = create_retriever_tool(\n",
    "    prod_feature_store.as_retriever(search_kwargs={\"k\": 1}),\n",
    "    name=\"Get_Product_Features\",\n",
    "    description=\"\"\"\n",
    "    This store contains details about Laptops. It lists the available laptops\n",
    "    and their features including CPU, memory, storage, design and advantages\n",
    "    \"\"\"\n",
    ")\n",
    "\n",
    "#Test the product feature store\n",
    "print(prod_feature_store.as_retriever().invoke(\"Tell me about the AlphaBook Pro\") )"
   ]
  },
  {
   "cell_type": "markdown",
   "id": "6b9cd2ff-6109-4558-a3af-d33e8d8d3470",
   "metadata": {},
   "source": [
    "## 03.04.Setup a Product QnA chatbot"
   ]
  },
  {
   "cell_type": "code",
   "execution_count": 4,
   "id": "49623ad7-619b-4f5a-893e-d3999aac6b01",
   "metadata": {},
   "outputs": [],
   "source": [
    "from langgraph.prebuilt import create_react_agent\n",
    "from langgraph.checkpoint.memory import MemorySaver\n",
    "from langchain_core.messages import AIMessage,HumanMessage,SystemMessage\n",
    "\n",
    "#Create a System prompt to provide a persona to the chatbot\n",
    "system_prompt = SystemMessage(\"\"\"\n",
    "    You are professional chatbot that answers questions about laptops sold by your company.\n",
    "    To answer questions about laptops, you will ONLY use the available tools and NOT your own memory.\n",
    "    You will handle small talk and greetings by producing professional responses.\n",
    "    \"\"\"\n",
    ")\n",
    "\n",
    "#Create a list of tools available\n",
    "tools = [get_laptop_price, get_product_features]\n",
    "\n",
    "#Create memory across questions in a conversation (conversation memory)\n",
    "checkpointer=MemorySaver()\n",
    "\n",
    "#Create a Product QnA Agent. This is actual a graph in langGraph\n",
    "product_QnA_agent=create_react_agent(\n",
    "                                model=model, #LLM to use\n",
    "                                tools=tools, #List of tools to use\n",
    "                                prompt=system_prompt, #The system prompt\n",
    "                                debug=False, #Debugging turned on if needed\n",
    "                                checkpointer=checkpointer #For conversation memory\n",
    ")\n"
   ]
  },
  {
   "cell_type": "code",
   "execution_count": 5,
   "id": "351e5a12-0733-45f5-980c-01ee29914f39",
   "metadata": {},
   "outputs": [
    {
     "name": "stdout",
     "output_type": "stream",
     "text": [
      "================================\u001b[1m Human Message \u001b[0m=================================\n",
      "\n",
      "What are the features and pricing for GammaAir?\n",
      "==================================\u001b[1m Ai Message \u001b[0m==================================\n",
      "Tool Calls:\n",
      "  Get_Product_Features (call_5YGwp0CdNKyiK61p5EsUoyVu)\n",
      " Call ID: call_5YGwp0CdNKyiK61p5EsUoyVu\n",
      "  Args:\n",
      "    query: GammaAir\n",
      "  get_laptop_price (call_zR5t5LypajAr4N683uw0HirW)\n",
      " Call ID: call_zR5t5LypajAr4N683uw0HirW\n",
      "  Args:\n",
      "    laptop_name: GammaAir\n",
      "=================================\u001b[1m Tool Message \u001b[0m=================================\n",
      "Name: get_laptop_price\n",
      "\n",
      "1399\n",
      "==================================\u001b[1m Ai Message \u001b[0m==================================\n",
      "\n",
      "Here’s what I have for GammaAir:\n",
      "\n",
      "- Model in catalog: GammaAir X\n",
      "- CPU: AMD Ryzen 7\n",
      "- Memory: 32GB DDR4\n",
      "- Storage: 512GB NVMe SSD\n",
      "- Design: Thin and light form factor; high performance in a portable design\n",
      "\n",
      "Price: $1,399\n",
      "\n",
      "If you were looking for a different GammaAir variant, let me know and I’ll check. Would you like to compare it with another model or see upgrade options?\n"
     ]
    }
   ],
   "source": [
    "#Setup chatbot\n",
    "import uuid\n",
    "#To maintain memory, each request should be in the context of a thread.\n",
    "#Each user conversation will use a separate thread ID\n",
    "config = {\"configurable\": {\"thread_id\": uuid.uuid4()}}\n",
    "\n",
    "#Test the agent with an input\n",
    "inputs = {\"messages\":[\n",
    "                HumanMessage(\"What are the features and pricing for GammaAir?\")\n",
    "            ]}\n",
    "\n",
    "#Use streaming to print responses as the agent  does the work.\n",
    "#This is an alternate way to stream agent responses without waiting for the agent to finish\n",
    "for stream in product_QnA_agent.stream(inputs, config, stream_mode=\"values\"):\n",
    "    message=stream[\"messages\"][-1]\n",
    "    if isinstance(message, tuple):\n",
    "        print(message)\n",
    "    else:\n",
    "        message.pretty_print()"
   ]
  },
  {
   "cell_type": "markdown",
   "id": "4ae438bc-f7b2-42de-8b7b-9c5bbc6bd190",
   "metadata": {},
   "source": [
    "## 03.05. Execute the Product QnA Chatbot"
   ]
  },
  {
   "cell_type": "code",
   "execution_count": 6,
   "id": "de0a5ffd-48ad-4e0b-a33c-c7cd1e89cdf5",
   "metadata": {},
   "outputs": [
    {
     "name": "stdout",
     "output_type": "stream",
     "text": [
      "----------------------------------------\n",
      "USER : Hello\n",
      "AGENT : Hello! How can I help you today? If you’re shopping for a laptop, I can recommend models, compare specs, and share current pricing.\n",
      "----------------------------------------\n",
      "USER : I am looking to buy a laptop\n",
      "AGENT : Great! I can help you find the right laptop. A few quick questions to narrow it down:\n",
      "\n",
      "- Budget range?\n",
      "- Primary use (e.g., office/work, student, programming, content creation, gaming)?\n",
      "- Preferred screen size and weight/portability needs?\n",
      "- Battery life importance (e.g., all‑day vs. mostly plugged in)?\n",
      "- Operating system preference (Windows, macOS, ChromeOS)?\n",
      "- Any must‑have specs or features (RAM/storage amount, dedicated GPU, touchscreen/2‑in‑1, ports)?\n",
      "- Do you need it urgently or is timing flexible?\n",
      "\n",
      "Share whatever you know, and I’ll recommend specific models and pricing.\n",
      "----------------------------------------\n",
      "USER : Give me a list of available laptop names\n",
      "AGENT : Here are the available laptop models:\n",
      "- AlphaBook Pro\n",
      "- GammaAir X\n",
      "- SpectraBook S\n",
      "- OmegaPro G17\n",
      "- NanoEdge Flex\n",
      "\n",
      "Would you like brief summaries or pricing for any of these?\n",
      "----------------------------------------\n",
      "USER : Tell me about the features of  SpectraBook\n",
      "AGENT : We carry the SpectraBook S. Key features:\n",
      "- Intel Core i9 processor\n",
      "- 64GB RAM\n",
      "- 2TB SSD\n",
      "- Workstation‑class performance, ideal for video editing and 3D rendering\n",
      "\n",
      "Is this the model you meant? Would you like the current price or a comparison with other options?\n",
      "----------------------------------------\n",
      "USER : How much does it cost?\n",
      "AGENT : The SpectraBook S is priced at $2,499. Would you like me to check availability or suggest lower-cost alternatives with similar performance?\n",
      "----------------------------------------\n",
      "USER : Give me similar information about OmegaPro\n",
      "AGENT : Here’s the OmegaPro G17:\n",
      "\n",
      "- Price: $2,199\n",
      "- CPU: AMD Ryzen 9 5900HX\n",
      "- Memory: 32GB RAM\n",
      "- Storage: 1TB SSD\n",
      "- Display: 17-inch, high refresh rate\n",
      "- Graphics: Powerful dedicated GPU (optimized for gaming)\n",
      "- Ideal for: Gaming and high-performance tasks\n",
      "\n",
      "Want a quick comparison between the OmegaPro G17 and the SpectraBook S to see which fits your needs better?\n",
      "----------------------------------------\n",
      "USER : What info do you have on AcmeRight ?\n",
      "AGENT : I couldn’t find any laptop named “AcmeRight” in our catalog.\n",
      "\n",
      "Current models we carry:\n",
      "- AlphaBook Pro\n",
      "- GammaAir X\n",
      "- SpectraBook S\n",
      "- OmegaPro G17\n",
      "- NanoEdge Flex\n",
      "\n",
      "If you’re looking for a specific type (e.g., gaming, ultrabook, 2‑in‑1) or spec set, tell me what you need and I’ll recommend the closest match. Or, if “AcmeRight” was a different name, please clarify.\n",
      "----------------------------------------\n",
      "USER : Thanks for the help\n",
      "AGENT : You’re welcome! If you’d like, I can check stock and promos, or compare models side by side. Just tell me your budget and what you’ll use the laptop for.\n"
     ]
    }
   ],
   "source": [
    "import uuid\n",
    "#Send a sequence of messages to chatbot and get its response\n",
    "#This simulates the conversation between the user and the Agentic chatbot\n",
    "user_inputs = [\n",
    "    \"Hello\",\n",
    "    \"I am looking to buy a laptop\",\n",
    "    \"Give me a list of available laptop names\",\n",
    "    \"Tell me about the features of  SpectraBook\",\n",
    "    \"How much does it cost?\",\n",
    "    \"Give me similar information about OmegaPro\",\n",
    "    \"What info do you have on AcmeRight ?\",\n",
    "    \"Thanks for the help\"\n",
    "]\n",
    "\n",
    "#Create a new thread\n",
    "config = {\"configurable\": {\"thread_id\": str(uuid.uuid4())}}\n",
    "\n",
    "for input in user_inputs:\n",
    "    print(f\"----------------------------------------\\nUSER : {input}\")\n",
    "    #Format the user message\n",
    "    user_message = {\"messages\":[HumanMessage(input)]}\n",
    "    #Get response from the agent\n",
    "    ai_response = product_QnA_agent.invoke(user_message,config=config)\n",
    "    #Print the response\n",
    "    print(f\"AGENT : {ai_response['messages'][-1].content}\")\n"
   ]
  },
  {
   "cell_type": "code",
   "execution_count": 7,
   "id": "211a1b46-a07b-4a6e-899f-d3bfdbb6344d",
   "metadata": {},
   "outputs": [
    {
     "name": "stdout",
     "output_type": "stream",
     "text": [
      "\n",
      "USER 1: We currently carry the SpectraBook S. Here are its features:\n",
      "\n",
      "- Processor: Intel Core i9 (workstation-class performance)\n",
      "- Memory: 64GB RAM for heavy multitasking\n",
      "- Storage: 2TB SSD for fast load times and large project files\n",
      "- Use case: Designed for power users; great for video editing, 3D rendering, and other intensive workloads\n",
      "\n",
      "Did you mean the SpectraBook S? If so, I can also share pricing or compare it with other models.\n",
      "\n",
      "USER 2: Here’s what we have on the GammaAir series:\n",
      "\n",
      "Model: GammaAir X\n",
      "- Processor: AMD Ryzen 7\n",
      "- Memory: 32GB DDR4\n",
      "- Storage: 512GB NVMe SSD\n",
      "- Design: Thin-and-light chassis\n",
      "- Key advantage: High performance in a highly portable design\n",
      "\n",
      "Did you have a specific GammaAir variant in mind, or would you like more details on the GammaAir X?\n",
      "\n",
      "USER 1: The SpectraBook S is priced at $2,499. Would you like to check availability or compare it with similar models?\n",
      "\n",
      "USER 2: GammaAir X is priced at $1,399. Would you like to add it to your cart or compare it with another model?\n"
     ]
    }
   ],
   "source": [
    "#conversation memory by user\n",
    "def execute_prompt(user, config, prompt):\n",
    "    inputs = {\"messages\":[(\"user\",prompt)]}\n",
    "    ai_response = product_QnA_agent.invoke(inputs,config=config)\n",
    "    print(f\"\\n{user}: {ai_response['messages'][-1].content}\")\n",
    "\n",
    "#Create different session threads for 2 users\n",
    "config_1 = {\"configurable\": {\"thread_id\": str(uuid.uuid4())}}\n",
    "config_2 = {\"configurable\": {\"thread_id\": str(uuid.uuid4())}}\n",
    "\n",
    "#Test both threads\n",
    "execute_prompt(\"USER 1\", config_1, \"Tell me about the features of  SpectraBook\")\n",
    "execute_prompt(\"USER 2\", config_2, \"Tell me about the features of  GammaAir\")\n",
    "execute_prompt(\"USER 1\", config_1, \"What is its price ?\")\n",
    "execute_prompt(\"USER 2\", config_2, \"What is its price ?\")\n",
    "\n"
   ]
  },
  {
   "cell_type": "code",
   "execution_count": null,
   "id": "86c4b10e-c03d-45ed-834b-71ae5fec9717",
   "metadata": {},
   "outputs": [],
   "source": []
  }
 ],
 "metadata": {
  "kernelspec": {
   "display_name": "build-ai-agents-and-chatbots-with-langgraph-2021112",
   "language": "python",
   "name": "python3"
  },
  "language_info": {
   "codemirror_mode": {
    "name": "ipython",
    "version": 3
   },
   "file_extension": ".py",
   "mimetype": "text/x-python",
   "name": "python",
   "nbconvert_exporter": "python",
   "pygments_lexer": "ipython3",
   "version": "3.12.9"
  }
 },
 "nbformat": 4,
 "nbformat_minor": 5
}
