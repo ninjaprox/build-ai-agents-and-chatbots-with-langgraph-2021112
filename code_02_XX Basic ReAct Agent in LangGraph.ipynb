{
 "cells": [
  {
   "cell_type": "markdown",
   "id": "921a9354-af14-4403-b89d-244f74534c91",
   "metadata": {},
   "source": [
    "## 2.3. Setup Function Tools for ReAct Agent"
   ]
  },
  {
   "cell_type": "code",
   "execution_count": 47,
   "id": "42b44c4e-f2d1-4aec-b14c-4653407345b2",
   "metadata": {},
   "outputs": [],
   "source": [
    "from langchain_core.tools import tool\n",
    "\n",
    "#Tool annotation identifies a function as a tool automatically\n",
    "@tool\n",
    "def find_sum(x:int, y:int) -> int :\n",
    "    #The docstring comment describes the capabilities of the function\n",
    "    #It is used by the agent to discover the function's inputs, outputs and capabilities\n",
    "    \"\"\"\n",
    "    This function is used to add two numbers and return their sum.\n",
    "    It takes two integers as inputs and returns an integer as output.\n",
    "    \"\"\"\n",
    "    return x + y\n",
    "\n",
    "@tool\n",
    "def find_product(x:int, y:int) -> int :\n",
    "    \"\"\"\n",
    "    This function is used to multiply two numbers and return their product.\n",
    "    It takes two integers as inputs and returns an integer as ouput.\n",
    "    \"\"\"\n",
    "    return x * y\n"
   ]
  },
  {
   "cell_type": "markdown",
   "id": "aafd21f3-8566-494c-b12e-affed2f78cc9",
   "metadata": {},
   "source": [
    "## 2.4. Create a basic ReAct Agent"
   ]
  },
  {
   "cell_type": "code",
   "execution_count": 48,
   "id": "3e019404-dc11-4e10-93cd-94ac6a9d2f62",
   "metadata": {},
   "outputs": [],
   "source": [
    "from langchain_ollama import ChatOllama\n",
    "from langchain_openai import ChatOpenAI\n",
    "# Setup the LLM for the agent\n",
    "\n",
    "# Setup the LLM\n",
    "# model = ChatOllama(model=\"llama3.2\")\n",
    "# model = ChatOllama(model=\"phi4-mini\")\n",
    "model = ChatOpenAI(model=\"gpt-5\")\n",
    "\n",
    "# Setup the GPT model\n",
    "\n",
    "# Test the model\n",
    "# response = model.invoke(\"Hello, how are you?\")\n",
    "# print(response.content)"
   ]
  },
  {
   "cell_type": "code",
   "execution_count": 54,
   "id": "0922ce3f-5e29-459e-a86f-26c4022491e2",
   "metadata": {},
   "outputs": [],
   "source": [
    "from langgraph.prebuilt import create_react_agent\n",
    "from langchain_core.messages import AIMessage,HumanMessage,SystemMessage\n",
    "\n",
    "#Create list of tools available to the agent\n",
    "agent_tools=[find_sum, find_product]\n",
    "\n",
    "#System prompt\n",
    "system_prompt = SystemMessage(\n",
    "    \"\"\"You are a Math genius who can solve math problems. Solve the\n",
    "    problems provided by the user, by using only tools available.\n",
    "    Do not solve the problem yourself\"\"\"\n",
    ")\n",
    "\n",
    "agent_graph=create_react_agent(\n",
    "    model=model,\n",
    "    prompt=system_prompt,\n",
    "    tools=agent_tools,\n",
    "    debug=True)\n"
   ]
  },
  {
   "cell_type": "markdown",
   "id": "ea6e6363-55de-4e5b-b6c6-b77c6f5e6358",
   "metadata": {},
   "source": [
    "## 2.5. Execute the ReAct Agent"
   ]
  },
  {
   "cell_type": "code",
   "execution_count": 56,
   "id": "7e000857-80ba-49fe-82d3-89993b63ebf6",
   "metadata": {},
   "outputs": [
    {
     "name": "stdout",
     "output_type": "stream",
     "text": [
      "\u001b[1m[values]\u001b[0m {'messages': [HumanMessage(content='what is the sum of 2 and 3? Do it twice and verify if the answer is the same. Explain step by step to primary school student.', additional_kwargs={}, response_metadata={}, id='795fea7b-d160-4ed2-8387-4dae9d3f3abb')]}\n",
      "\u001b[1m[updates]\u001b[0m {'agent': {'messages': [AIMessage(content='', additional_kwargs={'tool_calls': [{'id': 'call_1XSYXzqN2FNIRCdKqUFAPCQv', 'function': {'arguments': '{\"x\": 2, \"y\": 3}', 'name': 'find_sum'}, 'type': 'function'}, {'id': 'call_B4kqhi9Rb70UcNqD5ZINFi1j', 'function': {'arguments': '{\"x\": 2, \"y\": 3}', 'name': 'find_sum'}, 'type': 'function'}], 'refusal': None}, response_metadata={'token_usage': {'completion_tokens': 253, 'prompt_tokens': 263, 'total_tokens': 516, 'completion_tokens_details': {'accepted_prediction_tokens': 0, 'audio_tokens': 0, 'reasoning_tokens': 192, 'rejected_prediction_tokens': 0}, 'prompt_tokens_details': {'audio_tokens': 0, 'cached_tokens': 0}}, 'model_name': 'gpt-5-2025-08-07', 'system_fingerprint': None, 'id': 'chatcmpl-CHLxCot3YzP1bN0uKVXLrIuoM1syF', 'service_tier': 'default', 'finish_reason': 'tool_calls', 'logprobs': None}, id='run--62681764-bb7c-465e-af4f-076a971ee476-0', tool_calls=[{'name': 'find_sum', 'args': {'x': 2, 'y': 3}, 'id': 'call_1XSYXzqN2FNIRCdKqUFAPCQv', 'type': 'tool_call'}, {'name': 'find_sum', 'args': {'x': 2, 'y': 3}, 'id': 'call_B4kqhi9Rb70UcNqD5ZINFi1j', 'type': 'tool_call'}], usage_metadata={'input_tokens': 263, 'output_tokens': 253, 'total_tokens': 516, 'input_token_details': {'audio': 0, 'cache_read': 0}, 'output_token_details': {'audio': 0, 'reasoning': 192}})]}}\n",
      "\u001b[1m[values]\u001b[0m {'messages': [HumanMessage(content='what is the sum of 2 and 3? Do it twice and verify if the answer is the same. Explain step by step to primary school student.', additional_kwargs={}, response_metadata={}, id='795fea7b-d160-4ed2-8387-4dae9d3f3abb'), AIMessage(content='', additional_kwargs={'tool_calls': [{'id': 'call_1XSYXzqN2FNIRCdKqUFAPCQv', 'function': {'arguments': '{\"x\": 2, \"y\": 3}', 'name': 'find_sum'}, 'type': 'function'}, {'id': 'call_B4kqhi9Rb70UcNqD5ZINFi1j', 'function': {'arguments': '{\"x\": 2, \"y\": 3}', 'name': 'find_sum'}, 'type': 'function'}], 'refusal': None}, response_metadata={'token_usage': {'completion_tokens': 253, 'prompt_tokens': 263, 'total_tokens': 516, 'completion_tokens_details': {'accepted_prediction_tokens': 0, 'audio_tokens': 0, 'reasoning_tokens': 192, 'rejected_prediction_tokens': 0}, 'prompt_tokens_details': {'audio_tokens': 0, 'cached_tokens': 0}}, 'model_name': 'gpt-5-2025-08-07', 'system_fingerprint': None, 'id': 'chatcmpl-CHLxCot3YzP1bN0uKVXLrIuoM1syF', 'service_tier': 'default', 'finish_reason': 'tool_calls', 'logprobs': None}, id='run--62681764-bb7c-465e-af4f-076a971ee476-0', tool_calls=[{'name': 'find_sum', 'args': {'x': 2, 'y': 3}, 'id': 'call_1XSYXzqN2FNIRCdKqUFAPCQv', 'type': 'tool_call'}, {'name': 'find_sum', 'args': {'x': 2, 'y': 3}, 'id': 'call_B4kqhi9Rb70UcNqD5ZINFi1j', 'type': 'tool_call'}], usage_metadata={'input_tokens': 263, 'output_tokens': 253, 'total_tokens': 516, 'input_token_details': {'audio': 0, 'cache_read': 0}, 'output_token_details': {'audio': 0, 'reasoning': 192}})]}\n",
      "\u001b[1m[updates]\u001b[0m {'tools': {'messages': [ToolMessage(content='5', name='find_sum', tool_call_id='call_1XSYXzqN2FNIRCdKqUFAPCQv')]}}\n",
      "\u001b[1m[updates]\u001b[0m {'tools': {'messages': [ToolMessage(content='5', name='find_sum', tool_call_id='call_B4kqhi9Rb70UcNqD5ZINFi1j')]}}\n",
      "\u001b[1m[values]\u001b[0m {'messages': [HumanMessage(content='what is the sum of 2 and 3? Do it twice and verify if the answer is the same. Explain step by step to primary school student.', additional_kwargs={}, response_metadata={}, id='795fea7b-d160-4ed2-8387-4dae9d3f3abb'), AIMessage(content='', additional_kwargs={'tool_calls': [{'id': 'call_1XSYXzqN2FNIRCdKqUFAPCQv', 'function': {'arguments': '{\"x\": 2, \"y\": 3}', 'name': 'find_sum'}, 'type': 'function'}, {'id': 'call_B4kqhi9Rb70UcNqD5ZINFi1j', 'function': {'arguments': '{\"x\": 2, \"y\": 3}', 'name': 'find_sum'}, 'type': 'function'}], 'refusal': None}, response_metadata={'token_usage': {'completion_tokens': 253, 'prompt_tokens': 263, 'total_tokens': 516, 'completion_tokens_details': {'accepted_prediction_tokens': 0, 'audio_tokens': 0, 'reasoning_tokens': 192, 'rejected_prediction_tokens': 0}, 'prompt_tokens_details': {'audio_tokens': 0, 'cached_tokens': 0}}, 'model_name': 'gpt-5-2025-08-07', 'system_fingerprint': None, 'id': 'chatcmpl-CHLxCot3YzP1bN0uKVXLrIuoM1syF', 'service_tier': 'default', 'finish_reason': 'tool_calls', 'logprobs': None}, id='run--62681764-bb7c-465e-af4f-076a971ee476-0', tool_calls=[{'name': 'find_sum', 'args': {'x': 2, 'y': 3}, 'id': 'call_1XSYXzqN2FNIRCdKqUFAPCQv', 'type': 'tool_call'}, {'name': 'find_sum', 'args': {'x': 2, 'y': 3}, 'id': 'call_B4kqhi9Rb70UcNqD5ZINFi1j', 'type': 'tool_call'}], usage_metadata={'input_tokens': 263, 'output_tokens': 253, 'total_tokens': 516, 'input_token_details': {'audio': 0, 'cache_read': 0}, 'output_token_details': {'audio': 0, 'reasoning': 192}}), ToolMessage(content='5', name='find_sum', id='5844c656-8175-4a3a-8143-3b4a03159ce5', tool_call_id='call_1XSYXzqN2FNIRCdKqUFAPCQv'), ToolMessage(content='5', name='find_sum', id='2acecc84-9f25-4df7-bbf3-1cce901fcf65', tool_call_id='call_B4kqhi9Rb70UcNqD5ZINFi1j')]}\n",
      "\u001b[1m[updates]\u001b[0m {'agent': {'messages': [AIMessage(content=\"Let's find the sum of 2 and 3 two times and check if we get the same answer.\\n\\nStep 1: Add 2 and 3 the first time.\\n- Start with 2.\\n- Count up 3 more: 3, 4, 5.\\n- So, 2 + 3 = 5.\\n\\nStep 2: Add 2 and 3 the second time.\\n- Start with 2 again.\\n- Count up 3 more: 3, 4, 5.\\n- So, 2 + 3 = 5 again.\\n\\nStep 3: Compare the answers.\\n- First time: 5\\n- Second time: 5\\n- The answers match!\\n\\nConclusion: The sum of 2 and 3 is 5, and doing it twice gives the same result both times.\", additional_kwargs={'refusal': None}, response_metadata={'token_usage': {'completion_tokens': 174, 'prompt_tokens': 337, 'total_tokens': 511, 'completion_tokens_details': {'accepted_prediction_tokens': 0, 'audio_tokens': 0, 'reasoning_tokens': 0, 'rejected_prediction_tokens': 0}, 'prompt_tokens_details': {'audio_tokens': 0, 'cached_tokens': 0}}, 'model_name': 'gpt-5-2025-08-07', 'system_fingerprint': None, 'id': 'chatcmpl-CHLxHQHOtqQsYZ5w5cyppqZ1XS4eS', 'service_tier': 'default', 'finish_reason': 'stop', 'logprobs': None}, id='run--25e90087-8773-4e32-8ad0-da881742b518-0', usage_metadata={'input_tokens': 337, 'output_tokens': 174, 'total_tokens': 511, 'input_token_details': {'audio': 0, 'cache_read': 0}, 'output_token_details': {'audio': 0, 'reasoning': 0}})]}}\n",
      "\u001b[1m[values]\u001b[0m {'messages': [HumanMessage(content='what is the sum of 2 and 3? Do it twice and verify if the answer is the same. Explain step by step to primary school student.', additional_kwargs={}, response_metadata={}, id='795fea7b-d160-4ed2-8387-4dae9d3f3abb'), AIMessage(content='', additional_kwargs={'tool_calls': [{'id': 'call_1XSYXzqN2FNIRCdKqUFAPCQv', 'function': {'arguments': '{\"x\": 2, \"y\": 3}', 'name': 'find_sum'}, 'type': 'function'}, {'id': 'call_B4kqhi9Rb70UcNqD5ZINFi1j', 'function': {'arguments': '{\"x\": 2, \"y\": 3}', 'name': 'find_sum'}, 'type': 'function'}], 'refusal': None}, response_metadata={'token_usage': {'completion_tokens': 253, 'prompt_tokens': 263, 'total_tokens': 516, 'completion_tokens_details': {'accepted_prediction_tokens': 0, 'audio_tokens': 0, 'reasoning_tokens': 192, 'rejected_prediction_tokens': 0}, 'prompt_tokens_details': {'audio_tokens': 0, 'cached_tokens': 0}}, 'model_name': 'gpt-5-2025-08-07', 'system_fingerprint': None, 'id': 'chatcmpl-CHLxCot3YzP1bN0uKVXLrIuoM1syF', 'service_tier': 'default', 'finish_reason': 'tool_calls', 'logprobs': None}, id='run--62681764-bb7c-465e-af4f-076a971ee476-0', tool_calls=[{'name': 'find_sum', 'args': {'x': 2, 'y': 3}, 'id': 'call_1XSYXzqN2FNIRCdKqUFAPCQv', 'type': 'tool_call'}, {'name': 'find_sum', 'args': {'x': 2, 'y': 3}, 'id': 'call_B4kqhi9Rb70UcNqD5ZINFi1j', 'type': 'tool_call'}], usage_metadata={'input_tokens': 263, 'output_tokens': 253, 'total_tokens': 516, 'input_token_details': {'audio': 0, 'cache_read': 0}, 'output_token_details': {'audio': 0, 'reasoning': 192}}), ToolMessage(content='5', name='find_sum', id='5844c656-8175-4a3a-8143-3b4a03159ce5', tool_call_id='call_1XSYXzqN2FNIRCdKqUFAPCQv'), ToolMessage(content='5', name='find_sum', id='2acecc84-9f25-4df7-bbf3-1cce901fcf65', tool_call_id='call_B4kqhi9Rb70UcNqD5ZINFi1j'), AIMessage(content=\"Let's find the sum of 2 and 3 two times and check if we get the same answer.\\n\\nStep 1: Add 2 and 3 the first time.\\n- Start with 2.\\n- Count up 3 more: 3, 4, 5.\\n- So, 2 + 3 = 5.\\n\\nStep 2: Add 2 and 3 the second time.\\n- Start with 2 again.\\n- Count up 3 more: 3, 4, 5.\\n- So, 2 + 3 = 5 again.\\n\\nStep 3: Compare the answers.\\n- First time: 5\\n- Second time: 5\\n- The answers match!\\n\\nConclusion: The sum of 2 and 3 is 5, and doing it twice gives the same result both times.\", additional_kwargs={'refusal': None}, response_metadata={'token_usage': {'completion_tokens': 174, 'prompt_tokens': 337, 'total_tokens': 511, 'completion_tokens_details': {'accepted_prediction_tokens': 0, 'audio_tokens': 0, 'reasoning_tokens': 0, 'rejected_prediction_tokens': 0}, 'prompt_tokens_details': {'audio_tokens': 0, 'cached_tokens': 0}}, 'model_name': 'gpt-5-2025-08-07', 'system_fingerprint': None, 'id': 'chatcmpl-CHLxHQHOtqQsYZ5w5cyppqZ1XS4eS', 'service_tier': 'default', 'finish_reason': 'stop', 'logprobs': None}, id='run--25e90087-8773-4e32-8ad0-da881742b518-0', usage_metadata={'input_tokens': 337, 'output_tokens': 174, 'total_tokens': 511, 'input_token_details': {'audio': 0, 'cache_read': 0}, 'output_token_details': {'audio': 0, 'reasoning': 0}})]}\n",
      "Agent returned : Let's find the sum of 2 and 3 two times and check if we get the same answer.\n",
      "\n",
      "Step 1: Add 2 and 3 the first time.\n",
      "- Start with 2.\n",
      "- Count up 3 more: 3, 4, 5.\n",
      "- So, 2 + 3 = 5.\n",
      "\n",
      "Step 2: Add 2 and 3 the second time.\n",
      "- Start with 2 again.\n",
      "- Count up 3 more: 3, 4, 5.\n",
      "- So, 2 + 3 = 5 again.\n",
      "\n",
      "Step 3: Compare the answers.\n",
      "- First time: 5\n",
      "- Second time: 5\n",
      "- The answers match!\n",
      "\n",
      "Conclusion: The sum of 2 and 3 is 5, and doing it twice gives the same result both times. \n",
      "\n",
      "Step by Step execution : \n",
      "================================ Human Message =================================\n",
      "\n",
      "what is the sum of 2 and 3? Do it twice and verify if the answer is the same. Explain step by step to primary school student.\n",
      "================================== Ai Message ==================================\n",
      "Tool Calls:\n",
      "  find_sum (call_1XSYXzqN2FNIRCdKqUFAPCQv)\n",
      " Call ID: call_1XSYXzqN2FNIRCdKqUFAPCQv\n",
      "  Args:\n",
      "    x: 2\n",
      "    y: 3\n",
      "  find_sum (call_B4kqhi9Rb70UcNqD5ZINFi1j)\n",
      " Call ID: call_B4kqhi9Rb70UcNqD5ZINFi1j\n",
      "  Args:\n",
      "    x: 2\n",
      "    y: 3\n",
      "================================= Tool Message =================================\n",
      "Name: find_sum\n",
      "\n",
      "5\n",
      "================================= Tool Message =================================\n",
      "Name: find_sum\n",
      "\n",
      "5\n",
      "================================== Ai Message ==================================\n",
      "\n",
      "Let's find the sum of 2 and 3 two times and check if we get the same answer.\n",
      "\n",
      "Step 1: Add 2 and 3 the first time.\n",
      "- Start with 2.\n",
      "- Count up 3 more: 3, 4, 5.\n",
      "- So, 2 + 3 = 5.\n",
      "\n",
      "Step 2: Add 2 and 3 the second time.\n",
      "- Start with 2 again.\n",
      "- Count up 3 more: 3, 4, 5.\n",
      "- So, 2 + 3 = 5 again.\n",
      "\n",
      "Step 3: Compare the answers.\n",
      "- First time: 5\n",
      "- Second time: 5\n",
      "- The answers match!\n",
      "\n",
      "Conclusion: The sum of 2 and 3 is 5, and doing it twice gives the same result both times.\n"
     ]
    }
   ],
   "source": [
    "#Example 1\n",
    "inputs = {\"messages\":[(\"user\",\"what is the sum of 2 and 3? Do it twice and verify if the answer is the same. Explain step by step to primary school student.\")]}\n",
    "\n",
    "result = agent_graph.invoke(inputs)\n",
    "\n",
    "#Get the final answer\n",
    "print(f\"Agent returned : {result['messages'][-1].content} \\n\")\n",
    "\n",
    "print(\"Step by Step execution : \")\n",
    "for message in result['messages']:\n",
    "    print(message.pretty_repr())"
   ]
  },
  {
   "cell_type": "code",
   "execution_count": 51,
   "id": "eda8502f-7ba9-44ba-a19c-5720871a3c06",
   "metadata": {},
   "outputs": [
    {
     "name": "stdout",
     "output_type": "stream",
     "text": [
      "{'messages': [HumanMessage(content='What is 3 multiply by 2, then add 10, then multiply by 11? Do it step by step, using the tools available.', additional_kwargs={}, response_metadata={}, id='c3a25416-71bc-48e4-9c26-87d7f84b3350'),\n",
      "              AIMessage(content='', additional_kwargs={'tool_calls': [{'id': 'call_mqvZGJ2kRLMt1IvKvALBxvVW', 'function': {'arguments': '{\"x\": 3, \"y\": 2}', 'name': 'find_product'}, 'type': 'function'}], 'refusal': None}, response_metadata={'token_usage': {'completion_tokens': 478, 'prompt_tokens': 262, 'total_tokens': 740, 'completion_tokens_details': {'accepted_prediction_tokens': 0, 'audio_tokens': 0, 'reasoning_tokens': 448, 'rejected_prediction_tokens': 0}, 'prompt_tokens_details': {'audio_tokens': 0, 'cached_tokens': 0}}, 'model_name': 'gpt-5-2025-08-07', 'system_fingerprint': None, 'id': 'chatcmpl-CHLpy1wNSavr6GTtFujvkLtopT6Of', 'service_tier': 'default', 'finish_reason': 'tool_calls', 'logprobs': None}, id='run--d0748d85-e480-4a8b-b3e2-3aa2bffb3849-0', tool_calls=[{'name': 'find_product', 'args': {'x': 3, 'y': 2}, 'id': 'call_mqvZGJ2kRLMt1IvKvALBxvVW', 'type': 'tool_call'}], usage_metadata={'input_tokens': 262, 'output_tokens': 478, 'total_tokens': 740, 'input_token_details': {'audio': 0, 'cache_read': 0}, 'output_token_details': {'audio': 0, 'reasoning': 448}}),\n",
      "              ToolMessage(content='6', name='find_product', id='63b0f1e4-91ee-4643-9fa2-4ad0f923e638', tool_call_id='call_mqvZGJ2kRLMt1IvKvALBxvVW'),\n",
      "              AIMessage(content='', additional_kwargs={'tool_calls': [{'id': 'call_NCyMjJA9JV2rxX6PNtXD1h9X', 'function': {'arguments': '{\"x\":6,\"y\":10}', 'name': 'find_sum'}, 'type': 'function'}], 'refusal': None}, response_metadata={'token_usage': {'completion_tokens': 21, 'prompt_tokens': 295, 'total_tokens': 316, 'completion_tokens_details': {'accepted_prediction_tokens': 0, 'audio_tokens': 0, 'reasoning_tokens': 0, 'rejected_prediction_tokens': 0}, 'prompt_tokens_details': {'audio_tokens': 0, 'cached_tokens': 0}}, 'model_name': 'gpt-5-2025-08-07', 'system_fingerprint': None, 'id': 'chatcmpl-CHLq3WQDnLxv3FMKDcOLMCxH1pXWs', 'service_tier': 'default', 'finish_reason': 'tool_calls', 'logprobs': None}, id='run--4f5a20a0-05a1-4c1b-94c1-d67efa94e06b-0', tool_calls=[{'name': 'find_sum', 'args': {'x': 6, 'y': 10}, 'id': 'call_NCyMjJA9JV2rxX6PNtXD1h9X', 'type': 'tool_call'}], usage_metadata={'input_tokens': 295, 'output_tokens': 21, 'total_tokens': 316, 'input_token_details': {'audio': 0, 'cache_read': 0}, 'output_token_details': {'audio': 0, 'reasoning': 0}}),\n",
      "              ToolMessage(content='16', name='find_sum', id='8b6cff0d-247c-461f-8478-6cd7e24c476e', tool_call_id='call_NCyMjJA9JV2rxX6PNtXD1h9X'),\n",
      "              AIMessage(content='', additional_kwargs={'tool_calls': [{'id': 'call_DYUxkc1wjDZifBriJG9FQSmK', 'function': {'arguments': '{\"x\":16,\"y\":11}', 'name': 'find_product'}, 'type': 'function'}], 'refusal': None}, response_metadata={'token_usage': {'completion_tokens': 21, 'prompt_tokens': 328, 'total_tokens': 349, 'completion_tokens_details': {'accepted_prediction_tokens': 0, 'audio_tokens': 0, 'reasoning_tokens': 0, 'rejected_prediction_tokens': 0}, 'prompt_tokens_details': {'audio_tokens': 0, 'cached_tokens': 0}}, 'model_name': 'gpt-5-2025-08-07', 'system_fingerprint': None, 'id': 'chatcmpl-CHLq5ZRHANfesIgut9SgIjBYZdZ9d', 'service_tier': 'default', 'finish_reason': 'tool_calls', 'logprobs': None}, id='run--f397b3fa-1049-4f8b-b750-5193a40e989e-0', tool_calls=[{'name': 'find_product', 'args': {'x': 16, 'y': 11}, 'id': 'call_DYUxkc1wjDZifBriJG9FQSmK', 'type': 'tool_call'}], usage_metadata={'input_tokens': 328, 'output_tokens': 21, 'total_tokens': 349, 'input_token_details': {'audio': 0, 'cache_read': 0}, 'output_token_details': {'audio': 0, 'reasoning': 0}}),\n",
      "              ToolMessage(content='176', name='find_product', id='e020e3ac-8f2c-49b2-b5d1-e7992ec66adb', tool_call_id='call_DYUxkc1wjDZifBriJG9FQSmK'),\n",
      "              AIMessage(content='Step 1: 3 multiplied by 2 = 6\\nStep 2: 6 plus 10 = 16\\nStep 3: 16 multiplied by 11 = 176\\n\\nAnswer: 176', additional_kwargs={'refusal': None}, response_metadata={'token_usage': {'completion_tokens': 48, 'prompt_tokens': 361, 'total_tokens': 409, 'completion_tokens_details': {'accepted_prediction_tokens': 0, 'audio_tokens': 0, 'reasoning_tokens': 0, 'rejected_prediction_tokens': 0}, 'prompt_tokens_details': {'audio_tokens': 0, 'cached_tokens': 0}}, 'model_name': 'gpt-5-2025-08-07', 'system_fingerprint': None, 'id': 'chatcmpl-CHLq6QehJJWTG7mQUbhGS1SBsCfea', 'service_tier': 'default', 'finish_reason': 'stop', 'logprobs': None}, id='run--9adc25a4-170e-4b13-85df-9b866ed1a982-0', usage_metadata={'input_tokens': 361, 'output_tokens': 48, 'total_tokens': 409, 'input_token_details': {'audio': 0, 'cache_read': 0}, 'output_token_details': {'audio': 0, 'reasoning': 0}})]}\n",
      "Agent returned : Step 1: 3 multiplied by 2 = 6\n",
      "Step 2: 6 plus 10 = 16\n",
      "Step 3: 16 multiplied by 11 = 176\n",
      "\n",
      "Answer: 176 \n",
      "\n",
      "Step by Step execution : \n",
      "================================ Human Message =================================\n",
      "\n",
      "What is 3 multiply by 2, then add 10, then multiply by 11? Do it step by step, using the tools available.\n",
      "================================== Ai Message ==================================\n",
      "Tool Calls:\n",
      "  find_product (call_mqvZGJ2kRLMt1IvKvALBxvVW)\n",
      " Call ID: call_mqvZGJ2kRLMt1IvKvALBxvVW\n",
      "  Args:\n",
      "    x: 3\n",
      "    y: 2\n",
      "================================= Tool Message =================================\n",
      "Name: find_product\n",
      "\n",
      "6\n",
      "================================== Ai Message ==================================\n",
      "Tool Calls:\n",
      "  find_sum (call_NCyMjJA9JV2rxX6PNtXD1h9X)\n",
      " Call ID: call_NCyMjJA9JV2rxX6PNtXD1h9X\n",
      "  Args:\n",
      "    x: 6\n",
      "    y: 10\n",
      "================================= Tool Message =================================\n",
      "Name: find_sum\n",
      "\n",
      "16\n",
      "================================== Ai Message ==================================\n",
      "Tool Calls:\n",
      "  find_product (call_DYUxkc1wjDZifBriJG9FQSmK)\n",
      " Call ID: call_DYUxkc1wjDZifBriJG9FQSmK\n",
      "  Args:\n",
      "    x: 16\n",
      "    y: 11\n",
      "================================= Tool Message =================================\n",
      "Name: find_product\n",
      "\n",
      "176\n",
      "================================== Ai Message ==================================\n",
      "\n",
      "Step 1: 3 multiplied by 2 = 6\n",
      "Step 2: 6 plus 10 = 16\n",
      "Step 3: 16 multiplied by 11 = 176\n",
      "\n",
      "Answer: 176\n"
     ]
    }
   ],
   "source": [
    "from pprint import pprint\n",
    "\n",
    "#Example 2\n",
    "inputs = {\"messages\":[(\"user\",\"What is 3 multiply by 2, then add 10, then multiply by 11? Do it step by step, using the tools available.\")]}\n",
    "\n",
    "result = agent_graph.invoke(inputs)\n",
    "pprint(result)\n",
    "\n",
    "#Get the final answer\n",
    "print(f\"Agent returned : {result['messages'][-1].content} \\n\")\n",
    "\n",
    "print(\"Step by Step execution : \")\n",
    "for message in result['messages']:\n",
    "    print(message.pretty_repr())"
   ]
  },
  {
   "cell_type": "markdown",
   "id": "7f610935-396f-487f-90c1-c44b7e394e07",
   "metadata": {},
   "source": [
    "## 2.6. Debugging the Agent"
   ]
  },
  {
   "cell_type": "code",
   "execution_count": 52,
   "id": "e9049e1d-8461-4b32-82b5-4539dfbf0b29",
   "metadata": {},
   "outputs": [
    {
     "name": "stdout",
     "output_type": "stream",
     "text": [
      "\u001b[1m[values]\u001b[0m {'messages': [HumanMessage(content='what is the sum of 2 and 3 ?', additional_kwargs={}, response_metadata={}, id='b2d27c1a-983d-496e-b0f3-5bc5a1ced67e')]}\n",
      "\u001b[1m[updates]\u001b[0m {'agent': {'messages': [AIMessage(content='', additional_kwargs={'tool_calls': [{'id': 'call_9fyGhvLzs0iuJzuLrLsB7tws', 'function': {'arguments': '{\"x\":2,\"y\":3}', 'name': 'find_sum'}, 'type': 'function'}], 'refusal': None}, response_metadata={'token_usage': {'completion_tokens': 155, 'prompt_tokens': 242, 'total_tokens': 397, 'completion_tokens_details': {'accepted_prediction_tokens': 0, 'audio_tokens': 0, 'reasoning_tokens': 128, 'rejected_prediction_tokens': 0}, 'prompt_tokens_details': {'audio_tokens': 0, 'cached_tokens': 0}}, 'model_name': 'gpt-5-2025-08-07', 'system_fingerprint': None, 'id': 'chatcmpl-CHLq8jKTEm9z8bQBb8cSev1yqYfVY', 'service_tier': 'default', 'finish_reason': 'tool_calls', 'logprobs': None}, id='run--fa4bf8f3-e3c9-4ed2-9951-addf5aa49257-0', tool_calls=[{'name': 'find_sum', 'args': {'x': 2, 'y': 3}, 'id': 'call_9fyGhvLzs0iuJzuLrLsB7tws', 'type': 'tool_call'}], usage_metadata={'input_tokens': 242, 'output_tokens': 155, 'total_tokens': 397, 'input_token_details': {'audio': 0, 'cache_read': 0}, 'output_token_details': {'audio': 0, 'reasoning': 128}})]}}\n",
      "\u001b[1m[values]\u001b[0m {'messages': [HumanMessage(content='what is the sum of 2 and 3 ?', additional_kwargs={}, response_metadata={}, id='b2d27c1a-983d-496e-b0f3-5bc5a1ced67e'), AIMessage(content='', additional_kwargs={'tool_calls': [{'id': 'call_9fyGhvLzs0iuJzuLrLsB7tws', 'function': {'arguments': '{\"x\":2,\"y\":3}', 'name': 'find_sum'}, 'type': 'function'}], 'refusal': None}, response_metadata={'token_usage': {'completion_tokens': 155, 'prompt_tokens': 242, 'total_tokens': 397, 'completion_tokens_details': {'accepted_prediction_tokens': 0, 'audio_tokens': 0, 'reasoning_tokens': 128, 'rejected_prediction_tokens': 0}, 'prompt_tokens_details': {'audio_tokens': 0, 'cached_tokens': 0}}, 'model_name': 'gpt-5-2025-08-07', 'system_fingerprint': None, 'id': 'chatcmpl-CHLq8jKTEm9z8bQBb8cSev1yqYfVY', 'service_tier': 'default', 'finish_reason': 'tool_calls', 'logprobs': None}, id='run--fa4bf8f3-e3c9-4ed2-9951-addf5aa49257-0', tool_calls=[{'name': 'find_sum', 'args': {'x': 2, 'y': 3}, 'id': 'call_9fyGhvLzs0iuJzuLrLsB7tws', 'type': 'tool_call'}], usage_metadata={'input_tokens': 242, 'output_tokens': 155, 'total_tokens': 397, 'input_token_details': {'audio': 0, 'cache_read': 0}, 'output_token_details': {'audio': 0, 'reasoning': 128}})]}\n",
      "\u001b[1m[updates]\u001b[0m {'tools': {'messages': [ToolMessage(content='5', name='find_sum', id='7a9fc658-d579-421a-a3a9-c922dd77cdd6', tool_call_id='call_9fyGhvLzs0iuJzuLrLsB7tws')]}}\n",
      "\u001b[1m[values]\u001b[0m {'messages': [HumanMessage(content='what is the sum of 2 and 3 ?', additional_kwargs={}, response_metadata={}, id='b2d27c1a-983d-496e-b0f3-5bc5a1ced67e'), AIMessage(content='', additional_kwargs={'tool_calls': [{'id': 'call_9fyGhvLzs0iuJzuLrLsB7tws', 'function': {'arguments': '{\"x\":2,\"y\":3}', 'name': 'find_sum'}, 'type': 'function'}], 'refusal': None}, response_metadata={'token_usage': {'completion_tokens': 155, 'prompt_tokens': 242, 'total_tokens': 397, 'completion_tokens_details': {'accepted_prediction_tokens': 0, 'audio_tokens': 0, 'reasoning_tokens': 128, 'rejected_prediction_tokens': 0}, 'prompt_tokens_details': {'audio_tokens': 0, 'cached_tokens': 0}}, 'model_name': 'gpt-5-2025-08-07', 'system_fingerprint': None, 'id': 'chatcmpl-CHLq8jKTEm9z8bQBb8cSev1yqYfVY', 'service_tier': 'default', 'finish_reason': 'tool_calls', 'logprobs': None}, id='run--fa4bf8f3-e3c9-4ed2-9951-addf5aa49257-0', tool_calls=[{'name': 'find_sum', 'args': {'x': 2, 'y': 3}, 'id': 'call_9fyGhvLzs0iuJzuLrLsB7tws', 'type': 'tool_call'}], usage_metadata={'input_tokens': 242, 'output_tokens': 155, 'total_tokens': 397, 'input_token_details': {'audio': 0, 'cache_read': 0}, 'output_token_details': {'audio': 0, 'reasoning': 128}}), ToolMessage(content='5', name='find_sum', id='7a9fc658-d579-421a-a3a9-c922dd77cdd6', tool_call_id='call_9fyGhvLzs0iuJzuLrLsB7tws')]}\n",
      "\u001b[1m[updates]\u001b[0m {'agent': {'messages': [AIMessage(content='The sum of 2 and 3 is 5.', additional_kwargs={'refusal': None}, response_metadata={'token_usage': {'completion_tokens': 15, 'prompt_tokens': 275, 'total_tokens': 290, 'completion_tokens_details': {'accepted_prediction_tokens': 0, 'audio_tokens': 0, 'reasoning_tokens': 0, 'rejected_prediction_tokens': 0}, 'prompt_tokens_details': {'audio_tokens': 0, 'cached_tokens': 0}}, 'model_name': 'gpt-5-2025-08-07', 'system_fingerprint': None, 'id': 'chatcmpl-CHLqCm7RAEjji5bI3PmZtWY81R7BC', 'service_tier': 'default', 'finish_reason': 'stop', 'logprobs': None}, id='run--2b719bb4-1c18-46cd-b81c-bcafd74ca33a-0', usage_metadata={'input_tokens': 275, 'output_tokens': 15, 'total_tokens': 290, 'input_token_details': {'audio': 0, 'cache_read': 0}, 'output_token_details': {'audio': 0, 'reasoning': 0}})]}}\n",
      "\u001b[1m[values]\u001b[0m {'messages': [HumanMessage(content='what is the sum of 2 and 3 ?', additional_kwargs={}, response_metadata={}, id='b2d27c1a-983d-496e-b0f3-5bc5a1ced67e'), AIMessage(content='', additional_kwargs={'tool_calls': [{'id': 'call_9fyGhvLzs0iuJzuLrLsB7tws', 'function': {'arguments': '{\"x\":2,\"y\":3}', 'name': 'find_sum'}, 'type': 'function'}], 'refusal': None}, response_metadata={'token_usage': {'completion_tokens': 155, 'prompt_tokens': 242, 'total_tokens': 397, 'completion_tokens_details': {'accepted_prediction_tokens': 0, 'audio_tokens': 0, 'reasoning_tokens': 128, 'rejected_prediction_tokens': 0}, 'prompt_tokens_details': {'audio_tokens': 0, 'cached_tokens': 0}}, 'model_name': 'gpt-5-2025-08-07', 'system_fingerprint': None, 'id': 'chatcmpl-CHLq8jKTEm9z8bQBb8cSev1yqYfVY', 'service_tier': 'default', 'finish_reason': 'tool_calls', 'logprobs': None}, id='run--fa4bf8f3-e3c9-4ed2-9951-addf5aa49257-0', tool_calls=[{'name': 'find_sum', 'args': {'x': 2, 'y': 3}, 'id': 'call_9fyGhvLzs0iuJzuLrLsB7tws', 'type': 'tool_call'}], usage_metadata={'input_tokens': 242, 'output_tokens': 155, 'total_tokens': 397, 'input_token_details': {'audio': 0, 'cache_read': 0}, 'output_token_details': {'audio': 0, 'reasoning': 128}}), ToolMessage(content='5', name='find_sum', id='7a9fc658-d579-421a-a3a9-c922dd77cdd6', tool_call_id='call_9fyGhvLzs0iuJzuLrLsB7tws'), AIMessage(content='The sum of 2 and 3 is 5.', additional_kwargs={'refusal': None}, response_metadata={'token_usage': {'completion_tokens': 15, 'prompt_tokens': 275, 'total_tokens': 290, 'completion_tokens_details': {'accepted_prediction_tokens': 0, 'audio_tokens': 0, 'reasoning_tokens': 0, 'rejected_prediction_tokens': 0}, 'prompt_tokens_details': {'audio_tokens': 0, 'cached_tokens': 0}}, 'model_name': 'gpt-5-2025-08-07', 'system_fingerprint': None, 'id': 'chatcmpl-CHLqCm7RAEjji5bI3PmZtWY81R7BC', 'service_tier': 'default', 'finish_reason': 'stop', 'logprobs': None}, id='run--2b719bb4-1c18-46cd-b81c-bcafd74ca33a-0', usage_metadata={'input_tokens': 275, 'output_tokens': 15, 'total_tokens': 290, 'input_token_details': {'audio': 0, 'cache_read': 0}, 'output_token_details': {'audio': 0, 'reasoning': 0}})]}\n"
     ]
    }
   ],
   "source": [
    "agent_graph=create_react_agent(\n",
    "    model=model,\n",
    "    prompt=system_prompt,\n",
    "    tools=agent_tools,\n",
    "    debug=True)\n",
    "\n",
    "inputs = {\"messages\":[(\"user\",\"what is the sum of 2 and 3 ?\")]}\n",
    "\n",
    "result = agent_graph.invoke(inputs)"
   ]
  },
  {
   "cell_type": "code",
   "execution_count": null,
   "id": "f5523110-eb01-4c4d-a3fd-033e1d822c1a",
   "metadata": {},
   "outputs": [],
   "source": []
  }
 ],
 "metadata": {
  "kernelspec": {
   "display_name": "build-ai-agents-and-chatbots-with-langgraph-2021112",
   "language": "python",
   "name": "python3"
  },
  "language_info": {
   "codemirror_mode": {
    "name": "ipython",
    "version": 3
   },
   "file_extension": ".py",
   "mimetype": "text/x-python",
   "name": "python",
   "nbconvert_exporter": "python",
   "pygments_lexer": "ipython3",
   "version": "3.12.9"
  }
 },
 "nbformat": 4,
 "nbformat_minor": 5
}
