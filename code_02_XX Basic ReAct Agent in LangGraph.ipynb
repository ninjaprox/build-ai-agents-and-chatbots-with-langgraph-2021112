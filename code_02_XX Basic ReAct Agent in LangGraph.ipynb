{
 "cells": [
  {
   "cell_type": "code",
   "execution_count": null,
   "id": "2a176bf0-e8e3-4598-a949-003b0fc6b8af",
   "metadata": {},
   "outputs": [],
   "source": [
    "#Install all dependency packages for the course\n",
    "#Remember to execute this before running any of the exercises\n",
    "!uv pip install tenacity==9.0.0\n",
    "!uv pip install langchain==0.3.12\n",
    "!uv pip install langchain-openai==0.2.12\n",
    "!uv pip install langchain_community==0.3.12\n",
    "!uv pip install langgraph==0.2.59\n",
    "!uv pip install pysqlite3-binary==0.5.4\n",
    "!uv pip install langchain_chroma==0.1.4\n",
    "!uv pip install pandas==2.2.3\n",
    "!uv pip install pypdf==5.1.0\n",
    "!uv pip install nbformat==5.10.4\n",
    "!uv pip install langchain-ollama==0.5.4"
   ]
  },
  {
   "cell_type": "markdown",
   "id": "921a9354-af14-4403-b89d-244f74534c91",
   "metadata": {},
   "source": [
    "## 2.3. Setup Function Tools for ReAct Agent"
   ]
  },
  {
   "cell_type": "code",
   "execution_count": null,
   "id": "42b44c4e-f2d1-4aec-b14c-4653407345b2",
   "metadata": {},
   "outputs": [],
   "source": [
    "from langchain_core.tools import tool\n",
    "\n",
    "#Tool annotation identifies a function as a tool automatically\n",
    "@tool\n",
    "def find_sum(x:int, y:int) -> int :\n",
    "    #The docstring comment describes the capabilities of the function\n",
    "    #It is used by the agent to discover the function's inputs, outputs and capabilities\n",
    "    \"\"\"\n",
    "    This function is used to add two numbers and return their sum.\n",
    "    It takes two integers as inputs and returns an integer as output.\n",
    "    \"\"\"\n",
    "    return x + y\n",
    "\n",
    "@tool\n",
    "def find_product(x:int, y:int) -> int :\n",
    "    \"\"\"\n",
    "    This function is used to multiply two numbers and return their product.\n",
    "    It takes two integers as inputs and returns an integer as ouput.\n",
    "    \"\"\"\n",
    "    return x * y\n"
   ]
  },
  {
   "cell_type": "markdown",
   "id": "aafd21f3-8566-494c-b12e-affed2f78cc9",
   "metadata": {},
   "source": [
    "## 2.4. Create a basic ReAct Agent"
   ]
  },
  {
   "cell_type": "code",
   "execution_count": null,
   "id": "3e019404-dc11-4e10-93cd-94ac6a9d2f62",
   "metadata": {},
   "outputs": [],
   "source": [
    "from langchain_ollama import ChatOllama\n",
    "# Setup the LLM for the agent\n",
    "\n",
    "# Setup the LLM\n",
    "model = ChatOllama(model=\"llama3.2\")\n",
    "\n",
    "# Test the model\n",
    "# response = model.invoke(\"Hello, how are you?\")\n",
    "# print(response.content)"
   ]
  },
  {
   "cell_type": "code",
   "execution_count": null,
   "id": "0922ce3f-5e29-459e-a86f-26c4022491e2",
   "metadata": {},
   "outputs": [],
   "source": [
    "from langgraph.prebuilt import create_react_agent\n",
    "from langchain_core.messages import AIMessage,HumanMessage,SystemMessage\n",
    "\n",
    "#Create list of tools available to the agent\n",
    "agent_tools=[find_sum, find_product]\n",
    "\n",
    "#System prompt\n",
    "system_prompt = SystemMessage(\n",
    "    \"\"\"You are a Math genius who can solve math problems. Solve the\n",
    "    problems provided by the user, by using only tools available. \n",
    "    Do not solve the problem yourself\"\"\"\n",
    ")\n",
    "\n",
    "agent_graph=create_react_agent(\n",
    "    model=model, \n",
    "    state_modifier=system_prompt,\n",
    "    tools=agent_tools)\n"
   ]
  },
  {
   "cell_type": "markdown",
   "id": "ea6e6363-55de-4e5b-b6c6-b77c6f5e6358",
   "metadata": {},
   "source": [
    "## 2.5. Execute the ReAct Agent"
   ]
  },
  {
   "cell_type": "code",
   "execution_count": null,
   "id": "7e000857-80ba-49fe-82d3-89993b63ebf6",
   "metadata": {},
   "outputs": [],
   "source": [
    "#Example 1\n",
    "inputs = {\"messages\":[(\"user\",\"what is the sum of 2 and 3 ?\")]}\n",
    "\n",
    "result = agent_graph.invoke(inputs)\n",
    "\n",
    "#Get the final answer\n",
    "print(f\"Agent returned : {result['messages'][-1].content} \\n\")\n",
    "\n",
    "print(\"Step by Step execution : \")\n",
    "for message in result['messages']:\n",
    "    print(message.pretty_repr())"
   ]
  },
  {
   "cell_type": "code",
   "execution_count": null,
   "id": "eda8502f-7ba9-44ba-a19c-5720871a3c06",
   "metadata": {},
   "outputs": [],
   "source": [
    "#Example 2\n",
    "inputs = {\"messages\":[(\"user\",\"What is 3 multipled by 2 and 5 + 1 ?\")]}\n",
    "\n",
    "result = agent_graph.invoke(inputs)\n",
    "\n",
    "#Get the final answer\n",
    "print(f\"Agent returned : {result['messages'][-1].content} \\n\")\n",
    "\n",
    "print(\"Step by Step execution : \")\n",
    "for message in result['messages']:\n",
    "    print(message.pretty_repr())"
   ]
  },
  {
   "cell_type": "markdown",
   "id": "7f610935-396f-487f-90c1-c44b7e394e07",
   "metadata": {},
   "source": [
    "## 2.6. Debugging the Agent"
   ]
  },
  {
   "cell_type": "code",
   "execution_count": null,
   "id": "e9049e1d-8461-4b32-82b5-4539dfbf0b29",
   "metadata": {},
   "outputs": [],
   "source": [
    "agent_graph=create_react_agent(\n",
    "    model=model, \n",
    "    state_modifier=system_prompt,\n",
    "    tools=agent_tools,\n",
    "    debug=True)\n",
    "\n",
    "inputs = {\"messages\":[(\"user\",\"what is the sum of 2 and 3 ?\")]}\n",
    "\n",
    "result = agent_graph.invoke(inputs)"
   ]
  },
  {
   "cell_type": "code",
   "execution_count": null,
   "id": "f5523110-eb01-4c4d-a3fd-033e1d822c1a",
   "metadata": {},
   "outputs": [],
   "source": []
  }
 ],
 "metadata": {
  "kernelspec": {
   "display_name": "build-ai-agents-and-chatbots-with-langgraph-2021112 (3.12.3)",
   "language": "python",
   "name": "python3"
  },
  "language_info": {
   "codemirror_mode": {
    "name": "ipython",
    "version": 3
   },
   "file_extension": ".py",
   "mimetype": "text/x-python",
   "name": "python",
   "nbconvert_exporter": "python",
   "pygments_lexer": "ipython3",
   "version": "3.12.3"
  }
 },
 "nbformat": 4,
 "nbformat_minor": 5
}
