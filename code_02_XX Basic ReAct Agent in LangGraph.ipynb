{
 "cells": [
  {
   "cell_type": "markdown",
   "id": "921a9354-af14-4403-b89d-244f74534c91",
   "metadata": {},
   "source": [
    "## 2.3. Setup Function Tools for ReAct Agent"
   ]
  },
  {
   "cell_type": "code",
   "execution_count": 3,
   "id": "42b44c4e-f2d1-4aec-b14c-4653407345b2",
   "metadata": {},
   "outputs": [],
   "source": [
    "from langchain_core.tools import tool\n",
    "\n",
    "#Tool annotation identifies a function as a tool automatically\n",
    "@tool\n",
    "def find_sum(x:int, y:int) -> int :\n",
    "    #The docstring comment describes the capabilities of the function\n",
    "    #It is used by the agent to discover the function's inputs, outputs and capabilities\n",
    "    \"\"\"\n",
    "    This function is used to add two numbers and return their sum.\n",
    "    It takes two integers as inputs and returns an integer as output.\n",
    "    \"\"\"\n",
    "    return x + y\n",
    "\n",
    "@tool\n",
    "def find_product(x:int, y:int) -> int :\n",
    "    \"\"\"\n",
    "    This function is used to multiply two numbers and return their product.\n",
    "    It takes two integers as inputs and returns an integer as ouput.\n",
    "    \"\"\"\n",
    "    return x * y\n"
   ]
  },
  {
   "cell_type": "markdown",
   "id": "aafd21f3-8566-494c-b12e-affed2f78cc9",
   "metadata": {},
   "source": [
    "## 2.4. Create a basic ReAct Agent"
   ]
  },
  {
   "cell_type": "code",
   "execution_count": 4,
   "id": "3e019404-dc11-4e10-93cd-94ac6a9d2f62",
   "metadata": {},
   "outputs": [],
   "source": [
    "from langchain_ollama import ChatOllama\n",
    "# from langchain_openai import ChatOpenAI\n",
    "# Setup the LLM for the agent\n",
    "\n",
    "# Setup the LLM\n",
    "model = ChatOllama(model=\"llama3.2\")\n",
    "# model = ChatOpenAI(model=\"gpt-5\")\n",
    "\n",
    "# Setup the GPT model\n",
    "\n",
    "# Test the model\n",
    "# response = model.invoke(\"Hello, how are you?\")\n",
    "# print(response.content)"
   ]
  },
  {
   "cell_type": "code",
   "execution_count": 5,
   "id": "0922ce3f-5e29-459e-a86f-26c4022491e2",
   "metadata": {},
   "outputs": [],
   "source": [
    "from langgraph.prebuilt import create_react_agent\n",
    "from langchain_core.messages import AIMessage,HumanMessage,SystemMessage\n",
    "\n",
    "#Create list of tools available to the agent\n",
    "agent_tools=[find_sum, find_product]\n",
    "\n",
    "#System prompt\n",
    "system_prompt = SystemMessage(\n",
    "    \"\"\"You are a Math genius who can solve math problems. Solve the\n",
    "    problems provided by the user, by using only tools available.\n",
    "    Do not solve the problem yourself\"\"\"\n",
    ")\n",
    "\n",
    "agent_graph=create_react_agent(\n",
    "    model=model,\n",
    "    prompt=system_prompt,\n",
    "    tools=agent_tools)\n"
   ]
  },
  {
   "cell_type": "markdown",
   "id": "ea6e6363-55de-4e5b-b6c6-b77c6f5e6358",
   "metadata": {},
   "source": [
    "## 2.5. Execute the ReAct Agent"
   ]
  },
  {
   "cell_type": "code",
   "execution_count": 6,
   "id": "7e000857-80ba-49fe-82d3-89993b63ebf6",
   "metadata": {},
   "outputs": [
    {
     "name": "stdout",
     "output_type": "stream",
     "text": [
      "Agent returned : The sum of 2 and 3 is 5. \n",
      "\n",
      "Step by Step execution : \n",
      "================================ Human Message =================================\n",
      "\n",
      "what is the sum of 2 and 3 ?\n",
      "================================== Ai Message ==================================\n",
      "Tool Calls:\n",
      "  find_sum (a5a11c6e-e04e-4a44-8c1a-79e5a0712ef9)\n",
      " Call ID: a5a11c6e-e04e-4a44-8c1a-79e5a0712ef9\n",
      "  Args:\n",
      "    x: 2\n",
      "    y: 3\n",
      "================================= Tool Message =================================\n",
      "Name: find_sum\n",
      "\n",
      "5\n",
      "================================== Ai Message ==================================\n",
      "\n",
      "The sum of 2 and 3 is 5.\n"
     ]
    }
   ],
   "source": [
    "#Example 1\n",
    "inputs = {\"messages\":[(\"user\",\"what is the sum of 2 and 3 ?\")]}\n",
    "\n",
    "result = agent_graph.invoke(inputs)\n",
    "\n",
    "#Get the final answer\n",
    "print(f\"Agent returned : {result['messages'][-1].content} \\n\")\n",
    "\n",
    "print(\"Step by Step execution : \")\n",
    "for message in result['messages']:\n",
    "    print(message.pretty_repr())"
   ]
  },
  {
   "cell_type": "code",
   "execution_count": 9,
   "id": "eda8502f-7ba9-44ba-a19c-5720871a3c06",
   "metadata": {},
   "outputs": [
    {
     "name": "stdout",
     "output_type": "stream",
     "text": [
      "{'messages': [HumanMessage(content='What is 3 multipled by 2 and 5 + 1 ?', additional_kwargs={}, response_metadata={}, id='3054e863-6b5c-4db4-a1a3-9f605d0c3c3a'),\n",
      "              AIMessage(content='', additional_kwargs={}, response_metadata={'model': 'llama3.2', 'created_at': '2025-09-18T14:38:29.621937Z', 'done': True, 'done_reason': 'stop', 'total_duration': 1244868334, 'load_duration': 67941875, 'prompt_eval_count': 309, 'prompt_eval_duration': 727727125, 'eval_count': 23, 'eval_duration': 446425541, 'model_name': 'llama3.2'}, id='run--b488ce0b-2518-4915-a9d4-4260a385f6c9-0', tool_calls=[{'name': 'find_product', 'args': {'x': '3', 'y': '7'}, 'id': '827c6854-983d-42c0-8678-0b46398d6afe', 'type': 'tool_call'}], usage_metadata={'input_tokens': 309, 'output_tokens': 23, 'total_tokens': 332}),\n",
      "              ToolMessage(content='21', name='find_product', id='a05a44cf-5a47-4381-8b9a-b10616f61831', tool_call_id='827c6854-983d-42c0-8678-0b46398d6afe'),\n",
      "              AIMessage(content='The product of 3 and 2 is 6.\\nThe sum of 5 and 1 is 6.\\nSo, the final answer is: 6 + 6 = 12.', additional_kwargs={}, response_metadata={'model': 'llama3.2', 'created_at': '2025-09-18T14:38:30.653108Z', 'done': True, 'done_reason': 'stop', 'total_duration': 1017225917, 'load_duration': 53863500, 'prompt_eval_count': 138, 'prompt_eval_duration': 149736500, 'eval_count': 41, 'eval_duration': 811321208, 'model_name': 'llama3.2'}, id='run--2241f032-c3b7-4b9b-a6e1-9ce20b7eef05-0', usage_metadata={'input_tokens': 138, 'output_tokens': 41, 'total_tokens': 179})]}\n",
      "Agent returned : The product of 3 and 2 is 6.\n",
      "The sum of 5 and 1 is 6.\n",
      "So, the final answer is: 6 + 6 = 12. \n",
      "\n",
      "Step by Step execution : \n",
      "================================ Human Message =================================\n",
      "\n",
      "What is 3 multipled by 2 and 5 + 1 ?\n",
      "================================== Ai Message ==================================\n",
      "Tool Calls:\n",
      "  find_product (827c6854-983d-42c0-8678-0b46398d6afe)\n",
      " Call ID: 827c6854-983d-42c0-8678-0b46398d6afe\n",
      "  Args:\n",
      "    x: 3\n",
      "    y: 7\n",
      "================================= Tool Message =================================\n",
      "Name: find_product\n",
      "\n",
      "21\n",
      "================================== Ai Message ==================================\n",
      "\n",
      "The product of 3 and 2 is 6.\n",
      "The sum of 5 and 1 is 6.\n",
      "So, the final answer is: 6 + 6 = 12.\n"
     ]
    }
   ],
   "source": [
    "from pprint import pprint\n",
    "\n",
    "#Example 2\n",
    "inputs = {\"messages\":[(\"user\",\"What is 3 multipled by 2 and 5 + 1 ?\")]}\n",
    "\n",
    "result = agent_graph.invoke(inputs)\n",
    "pprint(result)\n",
    "\n",
    "#Get the final answer\n",
    "print(f\"Agent returned : {result['messages'][-1].content} \\n\")\n",
    "\n",
    "print(\"Step by Step execution : \")\n",
    "for message in result['messages']:\n",
    "    print(message.pretty_repr())"
   ]
  },
  {
   "cell_type": "markdown",
   "id": "7f610935-396f-487f-90c1-c44b7e394e07",
   "metadata": {},
   "source": [
    "## 2.6. Debugging the Agent"
   ]
  },
  {
   "cell_type": "code",
   "execution_count": null,
   "id": "e9049e1d-8461-4b32-82b5-4539dfbf0b29",
   "metadata": {},
   "outputs": [],
   "source": [
    "agent_graph=create_react_agent(\n",
    "    model=model,\n",
    "    prompt=system_prompt,\n",
    "    tools=agent_tools,\n",
    "    debug=True)\n",
    "\n",
    "inputs = {\"messages\":[(\"user\",\"what is the sum of 2 and 3 ?\")]}\n",
    "\n",
    "result = agent_graph.invoke(inputs)"
   ]
  },
  {
   "cell_type": "code",
   "execution_count": null,
   "id": "f5523110-eb01-4c4d-a3fd-033e1d822c1a",
   "metadata": {},
   "outputs": [],
   "source": []
  }
 ],
 "metadata": {
  "kernelspec": {
   "display_name": "build-ai-agents-and-chatbots-with-langgraph-2021112 (3.12.3)",
   "language": "python",
   "name": "python3"
  },
  "language_info": {
   "codemirror_mode": {
    "name": "ipython",
    "version": 3
   },
   "file_extension": ".py",
   "mimetype": "text/x-python",
   "name": "python",
   "nbconvert_exporter": "python",
   "pygments_lexer": "ipython3",
   "version": "3.12.3"
  }
 },
 "nbformat": 4,
 "nbformat_minor": 5
}
