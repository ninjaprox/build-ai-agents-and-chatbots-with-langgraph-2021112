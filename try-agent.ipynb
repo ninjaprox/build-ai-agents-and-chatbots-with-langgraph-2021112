{
 "cells": [
  {
   "cell_type": "code",
   "execution_count": 1,
   "id": "2dc46739",
   "metadata": {},
   "outputs": [
    {
     "data": {
      "image/png": "[encoded data removed]",
      "text/plain": [
       "<IPython.core.display.Image object>"
      ]
     },
     "execution_count": 1,
     "metadata": {},
     "output_type": "execute_result"
    }
   ],
   "source": [
    "import operator\n",
    "from typing import Annotated, TypedDict\n",
    "\n",
    "from IPython.display import Image\n",
    "from langchain_core.messages import AnyMessage, SystemMessage, HumanMessage\n",
    "from langchain_core.tools import tool\n",
    "from langchain_ollama import ChatOllama\n",
    "from langgraph.graph import END, StateGraph\n",
    "from pprint import pprint\n",
    "\n",
    "\n",
    "class TestAgentState(TypedDict):\n",
    "    messages: Annotated[list[AnyMessage], operator.add]\n",
    "\n",
    "\n",
    "@tool\n",
    "def find_sum(x: int, y: int) -> int:\n",
    "    # The docstring comment describes the capabilities of the function\n",
    "    # It is used by the agent to discover the function's inputs, outputs and capabilities\n",
    "    \"\"\"\n",
    "    This function is used to add two numbers and return their sum.\n",
    "    It takes two integers as inputs and returns an integer as output.\n",
    "    \"\"\"\n",
    "    return x + y\n",
    "\n",
    "\n",
    "class TestAgent:\n",
    "    def __init__(self, model, tools, system_prompt=None, debug=True):\n",
    "        self.system_prompt = system_prompt\n",
    "        self.debug = debug\n",
    "        self.model = model.bind_tools(tools)\n",
    "\n",
    "        agent_graph = StateGraph(TestAgentState)\n",
    "        agent_graph.add_node(\"llm\", self.call_llm)\n",
    "        agent_graph.add_edge(\"llm\", END)\n",
    "        # Set where there graph starts\n",
    "        agent_graph.set_entry_point(\"llm\")\n",
    "\n",
    "        self.agent_graph = agent_graph.compile()\n",
    "\n",
    "    def call_llm(self, state: TestAgentState):\n",
    "        messages = state[\"messages\"]\n",
    "\n",
    "        # If system prompt exists, add to messages in the front\n",
    "        if self.system_prompt:\n",
    "            messages = [SystemMessage(content=self.system_prompt)] + messages\n",
    "\n",
    "        # invoke the model with the message history\n",
    "        result = self.model.invoke(messages)\n",
    "        if self.debug:\n",
    "            print(\"\\nLLM Returned :\")\n",
    "            pprint(result)\n",
    "        # Return the LLM output\n",
    "        return {\"messages\": [result]}\n",
    "\n",
    "\n",
    "system_prompt = \"\"\"\n",
    "    You are a math genius\n",
    "    \"\"\"\n",
    "\n",
    "model = ChatOllama(model=\"llama3.2\")\n",
    "tools = [find_sum]\n",
    "\n",
    "agent = TestAgent(model, tools, system_prompt)\n",
    "Image(agent.agent_graph.get_graph().draw_mermaid_png())"
   ]
  },
  {
   "cell_type": "code",
   "execution_count": 2,
   "id": "5f6def1f",
   "metadata": {},
   "outputs": [
    {
     "name": "stdout",
     "output_type": "stream",
     "text": [
      "\n",
      "LLM Returned :\n",
      "AIMessage(content='', additional_kwargs={}, response_metadata={'model': 'llama3.2', 'created_at': '2025-09-19T02:08:18.946145Z', 'done': True, 'done_reason': 'stop', 'total_duration': 3151102125, 'load_duration': 2205515125, 'prompt_eval_count': 202, 'prompt_eval_duration': 537131625, 'eval_count': 23, 'eval_duration': 406325292, 'model_name': 'llama3.2'}, id='run--90499252-a17a-4118-a989-2ee87e5afcf1-0', tool_calls=[{'name': 'find_sum', 'args': {'x': '12', 'y': '20'}, 'id': '47ee6d89-7711-4614-9422-2c7596b9b23c', 'type': 'tool_call'}], usage_metadata={'input_tokens': 202, 'output_tokens': 23, 'total_tokens': 225})\n",
      "\n",
      "AGENT : \n"
     ]
    }
   ],
   "source": [
    "input = \"what is the sum of 12 and 20?\"\n",
    "\n",
    "user_message = {\"messages\":[HumanMessage(input)]}\n",
    "ai_response = agent.agent_graph.invoke(user_message)\n",
    "#Print the response\n",
    "print(f\"\\nAGENT : {ai_response['messages'][-1].content}\")"
   ]
  }
 ],
 "metadata": {
  "kernelspec": {
   "display_name": "build-ai-agents-and-chatbots-with-langgraph-2021112",
   "language": "python",
   "name": "python3"
  },
  "language_info": {
   "codemirror_mode": {
    "name": "ipython",
    "version": 3
   },
   "file_extension": ".py",
   "mimetype": "text/x-python",
   "name": "python",
   "nbconvert_exporter": "python",
   "pygments_lexer": "ipython3",
   "version": "3.12.9"
  }
 },
 "nbformat": 4,
 "nbformat_minor": 5
}
